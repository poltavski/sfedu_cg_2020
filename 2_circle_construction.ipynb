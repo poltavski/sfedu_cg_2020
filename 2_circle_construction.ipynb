{
 "cells": [
  {
   "cell_type": "code",
   "execution_count": 1,
   "metadata": {},
   "outputs": [],
   "source": [
    "from __future__ import print_function\n",
    "from ipywidgets import interact, interactive, fixed, interact_manual\n",
    "import ipywidgets as widgets"
   ]
  },
  {
   "cell_type": "code",
   "execution_count": 2,
   "metadata": {},
   "outputs": [
    {
     "data": {
      "application/vnd.jupyter.widget-view+json": {
       "model_id": "6faf0326f1714244a3544ab1a0d5427e",
       "version_major": 2,
       "version_minor": 0
      },
      "text/plain": [
       "interactive(children=(FloatSlider(value=0.0, description='c1', max=1.0), FloatSlider(value=0.0, description='c…"
      ]
     },
     "metadata": {},
     "output_type": "display_data"
    }
   ],
   "source": [
    "%matplotlib inline\n",
    "from ipywidgets import interactive\n",
    "import matplotlib.pyplot as plt\n",
    "import numpy as np\n",
    "\n",
    "def f(m, b):\n",
    "    plt.figure(10)\n",
    "    x = np.linspace(-100, 100)\n",
    "    plt.plot(x, m * x + b)\n",
    "    plt.ylim(-5, 5)\n",
    "    plt.show()\n",
    "\n",
    "def _circle(c1,c2,R):\n",
    "    theta = np.linspace(0, 2*np.pi, 100)\n",
    "\n",
    "    # the radius of the circle\n",
    "    r = np.sqrt(R)\n",
    "\n",
    "    # compute x1 and x2\n",
    "    x1 = r*np.cos(theta)\n",
    "    x2 = r*np.sin(theta)\n",
    "\n",
    "    # create the figure\n",
    "    fig, ax = plt.subplots(1)\n",
    "    ax.plot(x1-c1, x2-c2)\n",
    "    ax.set_aspect(1)\n",
    "    plt.xlim([-2,2])\n",
    "    plt.ylim([-2,2])\n",
    "    plt.show()\n",
    "    \n",
    "\n",
    "interactive_plot = interactive(_circle, c1=(0, 1, 0.1), c2=(0, 1, 0.1), R=(0, 1, 0.1)) \n",
    "output = interactive_plot.children[-1]\n",
    "output.layout.height = '350px'\n",
    "\n",
    "interactive_plot"
   ]
  },
  {
   "cell_type": "code",
   "execution_count": 3,
   "metadata": {},
   "outputs": [
    {
     "data": {
      "application/vnd.jupyter.widget-view+json": {
       "model_id": "99c79fa3fec149058dc8d2480535e235",
       "version_major": 2,
       "version_minor": 0
      },
      "text/plain": [
       "HBox(children=(IntSlider(value=1, max=10, min=1), IntSlider(value=1, max=10, min=1), IntSlider(value=1, max=10…"
      ]
     },
     "metadata": {},
     "output_type": "display_data"
    },
    {
     "data": {
      "application/vnd.jupyter.widget-view+json": {
       "model_id": "9725e686b8204cf6b694c63850a41c6e",
       "version_major": 2,
       "version_minor": 0
      },
      "text/plain": [
       "HBox(children=(IntSlider(value=1, max=10, min=1), IntSlider(value=1, max=10, min=1), IntSlider(value=1, max=10…"
      ]
     },
     "metadata": {},
     "output_type": "display_data"
    },
    {
     "data": {
      "application/vnd.jupyter.widget-view+json": {
       "model_id": "e8c42e227ea84f28ae9e91a5f1139cf1",
       "version_major": 2,
       "version_minor": 0
      },
      "text/plain": [
       "Output()"
      ]
     },
     "metadata": {},
     "output_type": "display_data"
    }
   ],
   "source": [
    "# Python3 implementation of the approach  \n",
    "from math import sqrt \n",
    "  \n",
    "# Function to find the circle on  \n",
    "# which the given three points lie  \n",
    "def findCircle(x1, y1, x2, y2, x3, y3) : \n",
    "    print(x1,y1)\n",
    "    print(x2,y2)\n",
    "    print(x3,y3)\n",
    "    x12 = x1 - x2;  \n",
    "    x13 = x1 - x3;  \n",
    "  \n",
    "    y12 = y1 - y2;  \n",
    "    y13 = y1 - y3;  \n",
    "  \n",
    "    y31 = y3 - y1;  \n",
    "    y21 = y2 - y1;  \n",
    "  \n",
    "    x31 = x3 - x1;  \n",
    "    x21 = x2 - x1;  \n",
    "  \n",
    "    # x1^2 - x3^2  \n",
    "    sx13 = pow(x1, 2) - pow(x3, 2);  \n",
    "  \n",
    "    # y1^2 - y3^2  \n",
    "    sy13 = pow(y1, 2) - pow(y3, 2);  \n",
    "  \n",
    "    sx21 = pow(x2, 2) - pow(x1, 2);  \n",
    "    sy21 = pow(y2, 2) - pow(y1, 2);  \n",
    "  \n",
    "    f = (((sx13) * (x12) + (sy13) * \n",
    "          (x12) + (sx21) * (x13) + \n",
    "          (sy21) * (x13)) // (2 * \n",
    "          ((y31) * (x12) - (y21) * (x13)))); \n",
    "              \n",
    "    g = (((sx13) * (y12) + (sy13) * (y12) + \n",
    "          (sx21) * (y13) + (sy21) * (y13)) // \n",
    "          (2 * ((x31) * (y12) - (x21) * (y13))));  \n",
    "  \n",
    "    c = (-pow(x1, 2) - pow(y1, 2) - \n",
    "         2 * g * x1 - 2 * f * y1);  \n",
    "  \n",
    "    # eqn of circle be x^2 + y^2 + 2*g*x + 2*f*y + c = 0  \n",
    "    # where centre is (h = -g, k = -f) and  \n",
    "    # radius r as r^2 = h^2 + k^2 - c  \n",
    "    h = -g;  \n",
    "    k = -f;  \n",
    "    sqr_of_r = h * h + k * k - c;  \n",
    "  \n",
    "    # r is the radius  \n",
    "    r = round(sqrt(sqr_of_r), 5);  \n",
    "  \n",
    "    print(\"Centre = (\", h, \", \", k, \")\");  \n",
    "    print(\"Radius = \", r); \n",
    "    circle1 = plt.Circle((h, k), abs(r), color='r')\n",
    "    fig, ax = plt.subplots(figsize=(7, 7)) \n",
    "    \n",
    "    fig.figsize=(5,5)\n",
    "    plt.xlim([-20,30])\n",
    "    plt.ylim([-20,30])\n",
    "    ax.add_artist(circle1)\n",
    "    plt.scatter(x1, y1, s=1000)\n",
    "    plt.scatter(x2, y2, s=1000)\n",
    "    plt.scatter(x3, y3, s=1000)\n",
    "  \n",
    "a = widgets.IntSlider(min=1, max=10)\n",
    "b = widgets.IntSlider(min=1, max=10)\n",
    "c = widgets.IntSlider(min=1, max=10)\n",
    "a1 = widgets.IntSlider(min=1, max=10)\n",
    "b1 = widgets.IntSlider(min=1, max=10)\n",
    "c1 = widgets.IntSlider(min=1, max=10)\n",
    "ui = widgets.HBox([a, b, c])\n",
    "ui1 = widgets.HBox([a1, b1, c1])\n",
    "\n",
    "\n",
    "out = widgets.interactive_output(findCircle, {'x1': a, 'x2': b, 'x3': c, 'y1': a1, 'y2': b1, 'y3': c1})\n",
    "\n",
    "display(ui, ui1, out)\n",
    "\n"
   ]
  },
  {
   "cell_type": "code",
   "execution_count": 4,
   "metadata": {},
   "outputs": [],
   "source": [
    "import numpy as np\n",
    "from scipy.stats import chi2\n",
    "#import pylab as mp\n",
    "\n",
    "def plot_ellipse(semimaj=1,semimin=1,phi=0,x_cent=0,y_cent=0,theta_num=1e3,ax=None,plot_kwargs=None,\\\n",
    "                    fill=False,fill_kwargs=None,data_out=False,cov=None,mass_level=0.68):\n",
    "    '''\n",
    "        An easy to use function for plotting ellipses in Python 2.7!\n",
    "\n",
    "        The function creates a 2D ellipse in polar coordinates then transforms to cartesian coordinates.\n",
    "        It can take a covariance matrix and plot contours from it.\n",
    "        \n",
    "        semimaj : float\n",
    "            length of semimajor axis (always taken to be some phi (-90<phi<90 deg) from positive x-axis!)\n",
    "\n",
    "        semimin : float\n",
    "            length of semiminor axis\n",
    "\n",
    "        phi : float\n",
    "            angle in radians of semimajor axis above positive x axis\n",
    "\n",
    "        x_cent : float\n",
    "            X coordinate center\n",
    "\n",
    "        y_cent : float\n",
    "            Y coordinate center\n",
    "\n",
    "        theta_num : int\n",
    "            Number of points to sample along ellipse from 0-2pi\n",
    "\n",
    "        ax : matplotlib axis property\n",
    "            A pre-created matplotlib axis\n",
    "\n",
    "        plot_kwargs : dictionary\n",
    "            matplotlib.plot() keyword arguments\n",
    "\n",
    "        fill : bool\n",
    "            A flag to fill the inside of the ellipse \n",
    "\n",
    "        fill_kwargs : dictionary\n",
    "            Keyword arguments for matplotlib.fill()\n",
    "\n",
    "        data_out : bool\n",
    "            A flag to return the ellipse samples without plotting\n",
    "\n",
    "        cov : ndarray of shape (2,2)\n",
    "            A 2x2 covariance matrix, if given this will overwrite semimaj, semimin and phi\n",
    "\n",
    "        mass_level : float\n",
    "            if supplied cov, mass_level is the contour defining fractional probability mass enclosed\n",
    "            for example: mass_level = 0.68 is the standard 68% mass\n",
    "\n",
    "    '''\n",
    "    # Get Ellipse Properties from cov matrix\n",
    "    if cov is not None:\n",
    "        eig_vec,eig_val,u = np.linalg.svd(cov)\n",
    "        # Make sure 0th eigenvector has positive x-coordinate\n",
    "        if eig_vec[0][0] < 0:\n",
    "            eig_vec[0] *= -1\n",
    "        semimaj = np.sqrt(eig_val[0])\n",
    "        semimin = np.sqrt(eig_val[1])\n",
    "        if mass_level is None:\n",
    "            multiplier = np.sqrt(2.279)\n",
    "        else:\n",
    "            distances = np.linspace(0,20,20001)\n",
    "            chi2_cdf = chi2.cdf(distances,df=2)\n",
    "            multiplier = np.sqrt(distances[np.where(np.abs(chi2_cdf-mass_level)==np.abs(chi2_cdf-mass_level).min())[0][0]])\n",
    "        semimaj *= multiplier\n",
    "        semimin *= multiplier\n",
    "        phi = np.arccos(np.dot(eig_vec[0],np.array([1,0])))\n",
    "        if eig_vec[0][1] < 0 and phi > 0:\n",
    "            phi *= -1\n",
    "\n",
    "    # Generate data for ellipse structure\n",
    "    theta = np.linspace(0,2*np.pi,theta_num)\n",
    "    r = 1 / np.sqrt((np.cos(theta))**2 + (np.sin(theta))**2)\n",
    "    x = r*np.cos(theta)\n",
    "    y = r*np.sin(theta)\n",
    "    data = np.array([x,y])\n",
    "    S = np.array([[semimaj,0],[0,semimin]])\n",
    "    R = np.array([[np.cos(phi),-np.sin(phi)],[np.sin(phi),np.cos(phi)]])\n",
    "    T = np.dot(R,S)\n",
    "    data = np.dot(T,data)\n",
    "    data[0] += x_cent\n",
    "    data[1] += y_cent\n",
    "\n",
    "    # Output data?\n",
    "    if data_out == True:\n",
    "        return data\n",
    "\n",
    "    # Plot!\n",
    "    return_fig = False\n",
    "    if ax is None:\n",
    "        return_fig = True\n",
    "        fig,ax = plt.subplots(figsize=(7,7))\n",
    "\n",
    "    if plot_kwargs is None:\n",
    "        ax.plot(data[0],data[1],color='b',linestyle='-')\n",
    "    else:\n",
    "        ax.plot(data[0],data[1],**plot_kwargs)\n",
    "\n",
    "    if fill == True:\n",
    "        ax.fill(data[0],data[1],**fill_kwargs)\n",
    "\n",
    "    if return_fig == True:\n",
    "        return fig\n"
   ]
  },
  {
   "cell_type": "markdown",
   "metadata": {},
   "source": [
    "![image](2_ellipse.jpg)"
   ]
  },
  {
   "cell_type": "code",
   "execution_count": 6,
   "metadata": {},
   "outputs": [
    {
     "data": {
      "application/vnd.jupyter.widget-view+json": {
       "model_id": "3daf5c95bfda41809cc2719147aa3bab",
       "version_major": 2,
       "version_minor": 0
      },
      "text/plain": [
       "interactive(children=(IntSlider(value=5, description='a', max=10), FloatSlider(value=2.0, description='b', max…"
      ]
     },
     "metadata": {},
     "output_type": "display_data"
    }
   ],
   "source": [
    "def _ellipse(a, b, c1, c2):\n",
    "    plot_ellipse(semimaj=a,semimin=b,phi=np.pi/3, x_cent=c1, y_cent=c2)\n",
    "    \n",
    "    plt.xlim([-5,5])\n",
    "    plt.ylim([-5,5])\n",
    "    plt.show()\n",
    "\n",
    "interactive_plot = interactive(_ellipse, a=(0, 10, 1), b=(0, 5, 0.5), c1=(0, 1, 0.1), c2=(0, 1, 0.1)) \n",
    "output = interactive_plot.children[-1]\n",
    "output.layout.height = '550px'\n",
    "\n",
    "interactive_plot\n",
    "\n"
   ]
  },
  {
   "cell_type": "code",
   "execution_count": null,
   "metadata": {},
   "outputs": [],
   "source": []
  }
 ],
 "metadata": {
  "kernelspec": {
   "display_name": "Python 3",
   "language": "python",
   "name": "python3"
  },
  "language_info": {
   "codemirror_mode": {
    "name": "ipython",
    "version": 3
   },
   "file_extension": ".py",
   "mimetype": "text/x-python",
   "name": "python",
   "nbconvert_exporter": "python",
   "pygments_lexer": "ipython3",
   "version": "3.7.3"
  }
 },
 "nbformat": 4,
 "nbformat_minor": 2
}
