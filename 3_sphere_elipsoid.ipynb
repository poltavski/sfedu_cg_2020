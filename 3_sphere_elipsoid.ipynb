{
 "cells": [
  {
   "cell_type": "markdown",
   "metadata": {},
   "source": [
    "# 3. Поверхности вращения\n",
    "\n",
    "## Необходимо написать программу построения сферы, эллипсоида"
   ]
  },
  {
   "cell_type": "code",
   "execution_count": 1,
   "metadata": {},
   "outputs": [
    {
     "data": {
      "application/vnd.jupyter.widget-view+json": {
       "model_id": "4f18908a8bf441c08714b2496950ca02",
       "version_major": 2,
       "version_minor": 0
      },
      "text/plain": [
       "interactive(children=(FloatSlider(value=2.75, description='a', max=5.0, min=0.5), FloatSlider(value=2.75, desc…"
      ]
     },
     "metadata": {},
     "output_type": "display_data"
    }
   ],
   "source": [
    "from mpl_toolkits.mplot3d import Axes3D\n",
    "import matplotlib.pyplot as plt\n",
    "import numpy as np\n",
    "%matplotlib inline\n",
    "from ipywidgets import interact, interactive, fixed, interact_manual\n",
    "import ipywidgets as widgets\n",
    "\n",
    "def make_elipsoid(a,b,c):\n",
    "    fig = plt.figure(figsize=(10,10))  # Square figure\n",
    "    ax = fig.add_subplot(111, projection='3d')\n",
    "\n",
    "    coefs = (a,b,c)  # Coefficients in a0/c x**2 + a1/c y**2 + a2/c z**2 = 1 \n",
    "    # Radii corresponding to the coefficients:\n",
    "    # translate to radiani\n",
    "    rx, ry, rz = 1/np.sqrt(coefs)\n",
    "\n",
    "    # Set of all spherical angles:\n",
    "    u = np.linspace(0, 2 * np.pi, 100)\n",
    "    v = np.linspace(0, np.pi, 100)\n",
    "\n",
    "    # Cartesian Dekart coordinates that correspond to the spherical angles:\n",
    "    # (this is the equation of an ellipsoid):\n",
    "    x = rx * np.outer(np.cos(u), np.sin(v))\n",
    "    y = ry * np.outer(np.sin(u), np.sin(v))\n",
    "    z = rz * np.outer(np.ones_like(u), np.cos(v))\n",
    "#     print(np.ones_like(u))\n",
    "    # Plot:\n",
    "    ax.plot_surface(x, y, z,  rstride=4, cstride=4, color='b')\n",
    "\n",
    "    # Adjustment of the axes, so that they all have the same span:\n",
    "    max_radius = max(rx, ry, rz)\n",
    "    for axis in 'xyz':\n",
    "        getattr(ax, 'set_{}lim'.format(axis))((-max_radius, max_radius))\n",
    "\n",
    "    plt.show()\n",
    "    \n",
    "\n",
    "interactive_plot = interactive(make_elipsoid, a=(0.5, 5.0), b=(0.5, 5.0), c=(0.5, 5.0))\n",
    "output = interactive_plot.children[-1]\n",
    "output.layout.height = '550px'\n",
    "interactive_plot"
   ]
  },
  {
   "cell_type": "code",
   "execution_count": null,
   "metadata": {},
   "outputs": [],
   "source": []
  }
 ],
 "metadata": {
  "kernelspec": {
   "display_name": "Python 3",
   "language": "python",
   "name": "python3"
  },
  "language_info": {
   "codemirror_mode": {
    "name": "ipython",
    "version": 3
   },
   "file_extension": ".py",
   "mimetype": "text/x-python",
   "name": "python",
   "nbconvert_exporter": "python",
   "pygments_lexer": "ipython3",
   "version": "3.7.3"
  }
 },
 "nbformat": 4,
 "nbformat_minor": 2
}
